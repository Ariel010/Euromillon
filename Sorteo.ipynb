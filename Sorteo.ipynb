{
 "cells": [
  {
   "cell_type": "code",
   "execution_count": 1,
   "metadata": {},
   "outputs": [],
   "source": [
    "import pandas as pd\n",
    "import numpy as np \n",
    "import matplotlib as plt \n",
    "import seaborn as sns"
   ]
  },
  {
   "cell_type": "code",
   "execution_count": 2,
   "metadata": {},
   "outputs": [],
   "source": [
    "data=pd.read_csv('Sorteo.csv')"
   ]
  },
  {
   "cell_type": "markdown",
   "metadata": {},
   "source": [
    "Visualizar los primeros registros para entender la estructura de los datos"
   ]
  },
  {
   "cell_type": "code",
   "execution_count": 9,
   "metadata": {},
   "outputs": [
    {
     "data": {
      "text/html": [
       "<div>\n",
       "<style scoped>\n",
       "    .dataframe tbody tr th:only-of-type {\n",
       "        vertical-align: middle;\n",
       "    }\n",
       "\n",
       "    .dataframe tbody tr th {\n",
       "        vertical-align: top;\n",
       "    }\n",
       "\n",
       "    .dataframe thead th {\n",
       "        text-align: right;\n",
       "    }\n",
       "</style>\n",
       "<table border=\"1\" class=\"dataframe\">\n",
       "  <thead>\n",
       "    <tr style=\"text-align: right;\">\n",
       "      <th></th>\n",
       "      <th>Sorteo numero</th>\n",
       "      <th>Numero1</th>\n",
       "      <th>Numero2</th>\n",
       "      <th>Numero3</th>\n",
       "      <th>Numero4</th>\n",
       "      <th>Numero5</th>\n",
       "      <th>Estrella1</th>\n",
       "      <th>Estrella2</th>\n",
       "    </tr>\n",
       "  </thead>\n",
       "  <tbody>\n",
       "    <tr>\n",
       "      <th>0</th>\n",
       "      <td>1</td>\n",
       "      <td>20</td>\n",
       "      <td>21</td>\n",
       "      <td>29</td>\n",
       "      <td>45</td>\n",
       "      <td>46</td>\n",
       "      <td>3</td>\n",
       "      <td>10</td>\n",
       "    </tr>\n",
       "    <tr>\n",
       "      <th>1</th>\n",
       "      <td>2</td>\n",
       "      <td>16</td>\n",
       "      <td>31</td>\n",
       "      <td>35</td>\n",
       "      <td>44</td>\n",
       "      <td>45</td>\n",
       "      <td>4</td>\n",
       "      <td>12</td>\n",
       "    </tr>\n",
       "  </tbody>\n",
       "</table>\n",
       "</div>"
      ],
      "text/plain": [
       "   Sorteo numero  Numero1  Numero2  Numero3  Numero4  Numero5  Estrella1  \\\n",
       "0              1       20       21       29       45       46          3   \n",
       "1              2       16       31       35       44       45          4   \n",
       "\n",
       "   Estrella2  \n",
       "0         10  \n",
       "1         12  "
      ]
     },
     "execution_count": 9,
     "metadata": {},
     "output_type": "execute_result"
    }
   ],
   "source": [
    "data.head(2)"
   ]
  },
  {
   "cell_type": "markdown",
   "metadata": {},
   "source": [
    "Resumen estadístico básico"
   ]
  },
  {
   "cell_type": "code",
   "execution_count": 12,
   "metadata": {},
   "outputs": [
    {
     "name": "stdout",
     "output_type": "stream",
     "text": [
      "<class 'pandas.core.frame.DataFrame'>\n",
      "RangeIndex: 104 entries, 0 to 103\n",
      "Data columns (total 8 columns):\n",
      " #   Column         Non-Null Count  Dtype\n",
      "---  ------         --------------  -----\n",
      " 0   Sorteo numero  104 non-null    int64\n",
      " 1   Numero1        104 non-null    int64\n",
      " 2   Numero2        104 non-null    int64\n",
      " 3   Numero3        104 non-null    int64\n",
      " 4   Numero4        104 non-null    int64\n",
      " 5   Numero5        104 non-null    int64\n",
      " 6   Estrella1      104 non-null    int64\n",
      " 7   Estrella2      104 non-null    int64\n",
      "dtypes: int64(8)\n",
      "memory usage: 6.6 KB\n"
     ]
    }
   ],
   "source": [
    "data.info()"
   ]
  },
  {
   "cell_type": "code",
   "execution_count": 10,
   "metadata": {},
   "outputs": [
    {
     "data": {
      "text/html": [
       "<div>\n",
       "<style scoped>\n",
       "    .dataframe tbody tr th:only-of-type {\n",
       "        vertical-align: middle;\n",
       "    }\n",
       "\n",
       "    .dataframe tbody tr th {\n",
       "        vertical-align: top;\n",
       "    }\n",
       "\n",
       "    .dataframe thead th {\n",
       "        text-align: right;\n",
       "    }\n",
       "</style>\n",
       "<table border=\"1\" class=\"dataframe\">\n",
       "  <thead>\n",
       "    <tr style=\"text-align: right;\">\n",
       "      <th></th>\n",
       "      <th>Sorteo numero</th>\n",
       "      <th>Numero1</th>\n",
       "      <th>Numero2</th>\n",
       "      <th>Numero3</th>\n",
       "      <th>Numero4</th>\n",
       "      <th>Numero5</th>\n",
       "      <th>Estrella1</th>\n",
       "      <th>Estrella2</th>\n",
       "    </tr>\n",
       "  </thead>\n",
       "  <tbody>\n",
       "    <tr>\n",
       "      <th>count</th>\n",
       "      <td>104.000000</td>\n",
       "      <td>104.000000</td>\n",
       "      <td>104.000000</td>\n",
       "      <td>104.000000</td>\n",
       "      <td>104.000000</td>\n",
       "      <td>104.000000</td>\n",
       "      <td>104.000000</td>\n",
       "      <td>104.000000</td>\n",
       "    </tr>\n",
       "    <tr>\n",
       "      <th>mean</th>\n",
       "      <td>52.500000</td>\n",
       "      <td>9.663462</td>\n",
       "      <td>17.067308</td>\n",
       "      <td>26.346154</td>\n",
       "      <td>35.528846</td>\n",
       "      <td>43.413462</td>\n",
       "      <td>4.586538</td>\n",
       "      <td>8.701923</td>\n",
       "    </tr>\n",
       "    <tr>\n",
       "      <th>std</th>\n",
       "      <td>30.166206</td>\n",
       "      <td>6.663348</td>\n",
       "      <td>8.013659</td>\n",
       "      <td>8.685183</td>\n",
       "      <td>7.567119</td>\n",
       "      <td>5.926099</td>\n",
       "      <td>2.771599</td>\n",
       "      <td>2.515505</td>\n",
       "    </tr>\n",
       "    <tr>\n",
       "      <th>min</th>\n",
       "      <td>1.000000</td>\n",
       "      <td>1.000000</td>\n",
       "      <td>3.000000</td>\n",
       "      <td>8.000000</td>\n",
       "      <td>13.000000</td>\n",
       "      <td>23.000000</td>\n",
       "      <td>1.000000</td>\n",
       "      <td>3.000000</td>\n",
       "    </tr>\n",
       "    <tr>\n",
       "      <th>25%</th>\n",
       "      <td>26.750000</td>\n",
       "      <td>4.000000</td>\n",
       "      <td>10.750000</td>\n",
       "      <td>20.000000</td>\n",
       "      <td>32.750000</td>\n",
       "      <td>40.750000</td>\n",
       "      <td>2.000000</td>\n",
       "      <td>7.000000</td>\n",
       "    </tr>\n",
       "    <tr>\n",
       "      <th>50%</th>\n",
       "      <td>52.500000</td>\n",
       "      <td>8.000000</td>\n",
       "      <td>16.000000</td>\n",
       "      <td>28.000000</td>\n",
       "      <td>36.000000</td>\n",
       "      <td>45.000000</td>\n",
       "      <td>4.000000</td>\n",
       "      <td>9.000000</td>\n",
       "    </tr>\n",
       "    <tr>\n",
       "      <th>75%</th>\n",
       "      <td>78.250000</td>\n",
       "      <td>15.000000</td>\n",
       "      <td>23.000000</td>\n",
       "      <td>34.000000</td>\n",
       "      <td>41.000000</td>\n",
       "      <td>48.000000</td>\n",
       "      <td>6.000000</td>\n",
       "      <td>11.000000</td>\n",
       "    </tr>\n",
       "    <tr>\n",
       "      <th>max</th>\n",
       "      <td>104.000000</td>\n",
       "      <td>29.000000</td>\n",
       "      <td>33.000000</td>\n",
       "      <td>44.000000</td>\n",
       "      <td>48.000000</td>\n",
       "      <td>50.000000</td>\n",
       "      <td>11.000000</td>\n",
       "      <td>12.000000</td>\n",
       "    </tr>\n",
       "  </tbody>\n",
       "</table>\n",
       "</div>"
      ],
      "text/plain": [
       "       Sorteo numero     Numero1     Numero2     Numero3     Numero4  \\\n",
       "count     104.000000  104.000000  104.000000  104.000000  104.000000   \n",
       "mean       52.500000    9.663462   17.067308   26.346154   35.528846   \n",
       "std        30.166206    6.663348    8.013659    8.685183    7.567119   \n",
       "min         1.000000    1.000000    3.000000    8.000000   13.000000   \n",
       "25%        26.750000    4.000000   10.750000   20.000000   32.750000   \n",
       "50%        52.500000    8.000000   16.000000   28.000000   36.000000   \n",
       "75%        78.250000   15.000000   23.000000   34.000000   41.000000   \n",
       "max       104.000000   29.000000   33.000000   44.000000   48.000000   \n",
       "\n",
       "          Numero5   Estrella1   Estrella2  \n",
       "count  104.000000  104.000000  104.000000  \n",
       "mean    43.413462    4.586538    8.701923  \n",
       "std      5.926099    2.771599    2.515505  \n",
       "min     23.000000    1.000000    3.000000  \n",
       "25%     40.750000    2.000000    7.000000  \n",
       "50%     45.000000    4.000000    9.000000  \n",
       "75%     48.000000    6.000000   11.000000  \n",
       "max     50.000000   11.000000   12.000000  "
      ]
     },
     "execution_count": 10,
     "metadata": {},
     "output_type": "execute_result"
    }
   ],
   "source": [
    "data.describe()"
   ]
  },
  {
   "cell_type": "markdown",
   "metadata": {},
   "source": [
    "Primer Visualizacion"
   ]
  },
  {
   "cell_type": "code",
   "execution_count": 11,
   "metadata": {},
   "outputs": [
    {
     "data": {
      "image/png": "[encoded data removed]",
      "text/plain": [
       "<Figure size 1000x600 with 6 Axes>"
      ]
     },
     "metadata": {},
     "output_type": "display_data"
    },
    {
     "data": {
      "image/png": "[encoded data removed]",
      "text/plain": [
       "<Figure size 800x500 with 2 Axes>"
      ]
     },
     "metadata": {},
     "output_type": "display_data"
    }
   ],
   "source": [
    "import matplotlib.pyplot as plt\n",
    "\n",
    "# Histograma para los números\n",
    "data.iloc[:, 1:6].hist(bins=20, figsize=(10, 6))\n",
    "plt.xlabel('Números')\n",
    "plt.ylabel('Frecuencia')\n",
    "plt.title('Histograma de números')\n",
    "plt.show()\n",
    "\n",
    "# Histograma para las estrellas\n",
    "data.iloc[:, 6:].hist(bins=10, figsize=(8, 5))\n",
    "plt.xlabel('Estrellas')\n",
    "plt.ylabel('Frecuencia')\n",
    "plt.title('Histograma de estrellas')\n",
    "plt.show()\n"
   ]
  },
  {
   "cell_type": "code",
   "execution_count": null,
   "metadata": {},
   "outputs": [],
   "source": []
  }
 ],
 "metadata": {
  "kernelspec": {
   "display_name": "Python 3",
   "language": "python",
   "name": "python3"
  },
  "language_info": {
   "codemirror_mode": {
    "name": "ipython",
    "version": 3
   },
   "file_extension": ".py",
   "mimetype": "text/x-python",
   "name": "python",
   "nbconvert_exporter": "python",
   "pygments_lexer": "ipython3",
   "version": "3.11.3"
  }
 },
 "nbformat": 4,
 "nbformat_minor": 2
}
