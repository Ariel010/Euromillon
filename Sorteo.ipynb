{
 "cells": [
  {
   "cell_type": "code",
   "execution_count": 1,
   "metadata": {},
   "outputs": [],
   "source": [
    "import pandas as pd\n",
    "import numpy as np \n",
    "import matplotlib as plt \n",
    "import seaborn as sns"
   ]
  },
  {
   "cell_type": "code",
   "execution_count": 2,
   "metadata": {},
   "outputs": [],
   "source": [
    "datos=pd.read_csv('Lotoideas.com - Histórico de Resultados - Euromillones - 2004 a 2024.csv')"
   ]
  },
  {
   "cell_type": "markdown",
   "metadata": {},
   "source": [
    "Visualizar los primeros registros para entender la estructura de los datos"
   ]
  },
  {
   "cell_type": "code",
   "execution_count": 3,
   "metadata": {},
   "outputs": [
    {
     "data": {
      "text/html": [
       "<div>\n",
       "<style scoped>\n",
       "    .dataframe tbody tr th:only-of-type {\n",
       "        vertical-align: middle;\n",
       "    }\n",
       "\n",
       "    .dataframe tbody tr th {\n",
       "        vertical-align: top;\n",
       "    }\n",
       "\n",
       "    .dataframe thead th {\n",
       "        text-align: right;\n",
       "    }\n",
       "</style>\n",
       "<table border=\"1\" class=\"dataframe\">\n",
       "  <thead>\n",
       "    <tr style=\"text-align: right;\">\n",
       "      <th></th>\n",
       "      <th>FECHA</th>\n",
       "      <th>COMB. GANADORA</th>\n",
       "      <th>Unnamed: 2</th>\n",
       "      <th>Unnamed: 3</th>\n",
       "      <th>Unnamed: 4</th>\n",
       "      <th>Unnamed: 5</th>\n",
       "      <th>ESTRELLAS</th>\n",
       "      <th>Unnamed: 7</th>\n",
       "    </tr>\n",
       "  </thead>\n",
       "  <tbody>\n",
       "    <tr>\n",
       "      <th>0</th>\n",
       "      <td>2/01/2024</td>\n",
       "      <td>7</td>\n",
       "      <td>15</td>\n",
       "      <td>18</td>\n",
       "      <td>46</td>\n",
       "      <td>49</td>\n",
       "      <td>10</td>\n",
       "      <td>12</td>\n",
       "    </tr>\n",
       "    <tr>\n",
       "      <th>1</th>\n",
       "      <td>29/12/2023</td>\n",
       "      <td>2</td>\n",
       "      <td>3</td>\n",
       "      <td>19</td>\n",
       "      <td>36</td>\n",
       "      <td>37</td>\n",
       "      <td>6</td>\n",
       "      <td>9</td>\n",
       "    </tr>\n",
       "  </tbody>\n",
       "</table>\n",
       "</div>"
      ],
      "text/plain": [
       "        FECHA  COMB. GANADORA  Unnamed: 2  Unnamed: 3  Unnamed: 4  Unnamed: 5  \\\n",
       "0   2/01/2024               7          15          18          46          49   \n",
       "1  29/12/2023               2           3          19          36          37   \n",
       "\n",
       "   ESTRELLAS  Unnamed: 7  \n",
       "0         10          12  \n",
       "1          6           9  "
      ]
     },
     "execution_count": 3,
     "metadata": {},
     "output_type": "execute_result"
    }
   ],
   "source": [
    "datos.head(2)"
   ]
  },
  {
   "cell_type": "code",
   "execution_count": 4,
   "metadata": {},
   "outputs": [
    {
     "data": {
      "text/plain": [
       "Index(['FECHA', 'COMB. GANADORA', 'Unnamed: 2', 'Unnamed: 3', 'Unnamed: 4',\n",
       "       'Unnamed: 5', 'ESTRELLAS', 'Unnamed: 7'],\n",
       "      dtype='object')"
      ]
     },
     "execution_count": 4,
     "metadata": {},
     "output_type": "execute_result"
    }
   ],
   "source": [
    "datos.columns"
   ]
  },
  {
   "cell_type": "code",
   "execution_count": 5,
   "metadata": {},
   "outputs": [
    {
     "name": "stdout",
     "output_type": "stream",
     "text": [
      "        FECHA  Numero1  Numero2  Numero3  Numero4  Numero5  Estrella1  \\\n",
      "0   2/01/2024        7       15       18       46       49         10   \n",
      "1  29/12/2023        2        3       19       36       37          6   \n",
      "2  26/12/2023        8       27       30       35       47          9   \n",
      "3  22/12/2023        6       14       34       44       49          4   \n",
      "4  19/12/2023       10       20       41       43       45          2   \n",
      "\n",
      "   Estrella2  \n",
      "0         12  \n",
      "1          9  \n",
      "2         10  \n",
      "3         12  \n",
      "4         12  \n"
     ]
    }
   ],
   "source": [
    "# Omitir las primeras filas y redefinir nombres de columnas\n",
    "datos = pd.read_csv('Lotoideas.com - Histórico de Resultados - Euromillones - 2004 a 2024.csv', skiprows=1, names=['FECHA', 'Numero1', 'Numero2', 'Numero3', 'Numero4', 'Numero5', 'Estrella1', 'Estrella2'])\n",
    "\n",
    "# Mostrar los primeros registros para verificar la estructura de los datos\n",
    "print(datos.head())"
   ]
  },
  {
   "cell_type": "markdown",
   "metadata": {},
   "source": [
    "Resumen estadístico básico"
   ]
  },
  {
   "cell_type": "code",
   "execution_count": 6,
   "metadata": {},
   "outputs": [
    {
     "name": "stdout",
     "output_type": "stream",
     "text": [
      "<class 'pandas.core.frame.DataFrame'>\n",
      "RangeIndex: 1699 entries, 0 to 1698\n",
      "Data columns (total 8 columns):\n",
      " #   Column     Non-Null Count  Dtype \n",
      "---  ------     --------------  ----- \n",
      " 0   FECHA      1699 non-null   object\n",
      " 1   Numero1    1699 non-null   int64 \n",
      " 2   Numero2    1699 non-null   int64 \n",
      " 3   Numero3    1699 non-null   int64 \n",
      " 4   Numero4    1699 non-null   int64 \n",
      " 5   Numero5    1699 non-null   int64 \n",
      " 6   Estrella1  1699 non-null   int64 \n",
      " 7   Estrella2  1699 non-null   int64 \n",
      "dtypes: int64(7), object(1)\n",
      "memory usage: 106.3+ KB\n"
     ]
    }
   ],
   "source": [
    "datos.info()"
   ]
  },
  {
   "cell_type": "code",
   "execution_count": 7,
   "metadata": {},
   "outputs": [
    {
     "data": {
      "text/html": [
       "<div>\n",
       "<style scoped>\n",
       "    .dataframe tbody tr th:only-of-type {\n",
       "        vertical-align: middle;\n",
       "    }\n",
       "\n",
       "    .dataframe tbody tr th {\n",
       "        vertical-align: top;\n",
       "    }\n",
       "\n",
       "    .dataframe thead th {\n",
       "        text-align: right;\n",
       "    }\n",
       "</style>\n",
       "<table border=\"1\" class=\"dataframe\">\n",
       "  <thead>\n",
       "    <tr style=\"text-align: right;\">\n",
       "      <th></th>\n",
       "      <th>Numero1</th>\n",
       "      <th>Numero2</th>\n",
       "      <th>Numero3</th>\n",
       "      <th>Numero4</th>\n",
       "      <th>Numero5</th>\n",
       "      <th>Estrella1</th>\n",
       "      <th>Estrella2</th>\n",
       "    </tr>\n",
       "  </thead>\n",
       "  <tbody>\n",
       "    <tr>\n",
       "      <th>count</th>\n",
       "      <td>1699.000000</td>\n",
       "      <td>1699.000000</td>\n",
       "      <td>1699.000000</td>\n",
       "      <td>1699.000000</td>\n",
       "      <td>1699.000000</td>\n",
       "      <td>1699.000000</td>\n",
       "      <td>1699.000000</td>\n",
       "    </tr>\n",
       "    <tr>\n",
       "      <th>mean</th>\n",
       "      <td>8.469099</td>\n",
       "      <td>16.849912</td>\n",
       "      <td>25.306062</td>\n",
       "      <td>34.088287</td>\n",
       "      <td>42.596233</td>\n",
       "      <td>4.062390</td>\n",
       "      <td>7.963508</td>\n",
       "    </tr>\n",
       "    <tr>\n",
       "      <th>std</th>\n",
       "      <td>6.620236</td>\n",
       "      <td>8.175732</td>\n",
       "      <td>8.672990</td>\n",
       "      <td>8.380482</td>\n",
       "      <td>6.665357</td>\n",
       "      <td>2.552094</td>\n",
       "      <td>2.640597</td>\n",
       "    </tr>\n",
       "    <tr>\n",
       "      <th>min</th>\n",
       "      <td>1.000000</td>\n",
       "      <td>2.000000</td>\n",
       "      <td>5.000000</td>\n",
       "      <td>9.000000</td>\n",
       "      <td>16.000000</td>\n",
       "      <td>1.000000</td>\n",
       "      <td>1.000000</td>\n",
       "    </tr>\n",
       "    <tr>\n",
       "      <th>25%</th>\n",
       "      <td>3.000000</td>\n",
       "      <td>10.000000</td>\n",
       "      <td>19.000000</td>\n",
       "      <td>28.000000</td>\n",
       "      <td>39.000000</td>\n",
       "      <td>2.000000</td>\n",
       "      <td>6.000000</td>\n",
       "    </tr>\n",
       "    <tr>\n",
       "      <th>50%</th>\n",
       "      <td>7.000000</td>\n",
       "      <td>16.000000</td>\n",
       "      <td>25.000000</td>\n",
       "      <td>35.000000</td>\n",
       "      <td>44.000000</td>\n",
       "      <td>3.000000</td>\n",
       "      <td>8.000000</td>\n",
       "    </tr>\n",
       "    <tr>\n",
       "      <th>75%</th>\n",
       "      <td>12.000000</td>\n",
       "      <td>23.000000</td>\n",
       "      <td>32.000000</td>\n",
       "      <td>40.500000</td>\n",
       "      <td>48.000000</td>\n",
       "      <td>6.000000</td>\n",
       "      <td>10.000000</td>\n",
       "    </tr>\n",
       "    <tr>\n",
       "      <th>max</th>\n",
       "      <td>38.000000</td>\n",
       "      <td>44.000000</td>\n",
       "      <td>47.000000</td>\n",
       "      <td>49.000000</td>\n",
       "      <td>50.000000</td>\n",
       "      <td>11.000000</td>\n",
       "      <td>12.000000</td>\n",
       "    </tr>\n",
       "  </tbody>\n",
       "</table>\n",
       "</div>"
      ],
      "text/plain": [
       "           Numero1      Numero2      Numero3      Numero4      Numero5  \\\n",
       "count  1699.000000  1699.000000  1699.000000  1699.000000  1699.000000   \n",
       "mean      8.469099    16.849912    25.306062    34.088287    42.596233   \n",
       "std       6.620236     8.175732     8.672990     8.380482     6.665357   \n",
       "min       1.000000     2.000000     5.000000     9.000000    16.000000   \n",
       "25%       3.000000    10.000000    19.000000    28.000000    39.000000   \n",
       "50%       7.000000    16.000000    25.000000    35.000000    44.000000   \n",
       "75%      12.000000    23.000000    32.000000    40.500000    48.000000   \n",
       "max      38.000000    44.000000    47.000000    49.000000    50.000000   \n",
       "\n",
       "         Estrella1    Estrella2  \n",
       "count  1699.000000  1699.000000  \n",
       "mean      4.062390     7.963508  \n",
       "std       2.552094     2.640597  \n",
       "min       1.000000     1.000000  \n",
       "25%       2.000000     6.000000  \n",
       "50%       3.000000     8.000000  \n",
       "75%       6.000000    10.000000  \n",
       "max      11.000000    12.000000  "
      ]
     },
     "execution_count": 7,
     "metadata": {},
     "output_type": "execute_result"
    }
   ],
   "source": [
    "datos.describe()"
   ]
  },
  {
   "cell_type": "markdown",
   "metadata": {},
   "source": [
    "Primer Visualizacion"
   ]
  },
  {
   "cell_type": "code",
   "execution_count": 8,
   "metadata": {},
   "outputs": [
    {
     "data": {
      "image/png": "[encoded data removed]",
      "text/plain": [
       "<Figure size 1000x600 with 6 Axes>"
      ]
     },
     "metadata": {},
     "output_type": "display_data"
    },
    {
     "data": {
      "image/png": "[encoded data removed]",
      "text/plain": [
       "<Figure size 800x500 with 2 Axes>"
      ]
     },
     "metadata": {},
     "output_type": "display_data"
    }
   ],
   "source": [
    "import matplotlib.pyplot as plt\n",
    "\n",
    "# Histograma para los números\n",
    "datos.iloc[:, 1:6].hist(bins=20, figsize=(10, 6))\n",
    "plt.xlabel('Números')\n",
    "plt.ylabel('Frecuencia')\n",
    "plt.title('Histograma de números')\n",
    "plt.show()\n",
    "\n",
    "# Histograma para las estrellas\n",
    "datos.iloc[:, 6:].hist(bins=10, figsize=(8, 5))\n",
    "plt.xlabel('Estrellas')\n",
    "plt.ylabel('Frecuencia')\n",
    "plt.title('Histograma de estrellas')\n",
    "plt.show()\n"
   ]
  },
  {
   "cell_type": "code",
   "execution_count": null,
   "metadata": {},
   "outputs": [],
   "source": [
    "datos.head(1)"
   ]
  },
  {
   "cell_type": "code",
   "execution_count": 9,
   "metadata": {},
   "outputs": [
    {
     "name": "stdout",
     "output_type": "stream",
     "text": [
      "1     166\n",
      "2     158\n",
      "3     169\n",
      "4     170\n",
      "5     179\n",
      "6     168\n",
      "7     170\n",
      "8     154\n",
      "9     159\n",
      "10    183\n",
      "11    171\n",
      "12    173\n",
      "13    167\n",
      "14    173\n",
      "15    177\n",
      "16    164\n",
      "17    185\n",
      "18    145\n",
      "19    191\n",
      "20    179\n",
      "21    194\n",
      "22    136\n",
      "23    193\n",
      "24    168\n",
      "25    181\n",
      "26    184\n",
      "27    179\n",
      "28    166\n",
      "29    182\n",
      "30    171\n",
      "31    162\n",
      "32    160\n",
      "33    146\n",
      "34    171\n",
      "35    174\n",
      "36    159\n",
      "37    182\n",
      "38    184\n",
      "39    165\n",
      "40    157\n",
      "41    147\n",
      "42    188\n",
      "43    163\n",
      "44    192\n",
      "45    173\n",
      "46    144\n",
      "47    152\n",
      "48    164\n",
      "49    168\n",
      "50    189\n",
      "Name: count, dtype: int64\n"
     ]
    }
   ],
   "source": [
    "# Seleccionar las columnas que contienen los números\n",
    "numeros = datos[['Numero1', 'Numero2', 'Numero3', 'Numero4', 'Numero5']]\n",
    "\n",
    "# Obtener la frecuencia de cada número\n",
    "frecuencia_numeros = numeros.stack().value_counts().sort_index()\n",
    "\n",
    "print(frecuencia_numeros)\n"
   ]
  },
  {
   "cell_type": "code",
   "execution_count": 11,
   "metadata": {},
   "outputs": [
    {
     "name": "stdout",
     "output_type": "stream",
     "text": [
      "1     291\n",
      "2     345\n",
      "3     345\n",
      "4     273\n",
      "5     298\n",
      "6     307\n",
      "7     305\n",
      "8     327\n",
      "9     312\n",
      "10    237\n",
      "11    233\n",
      "12    125\n",
      "Name: count, dtype: int64\n"
     ]
    }
   ],
   "source": [
    "# Seleccionar las columnas que contienen las estrellas\n",
    "estrellas = datos[['Estrella1', 'Estrella2']]\n",
    "\n",
    "# Obtener la frecuencia de cada estrella\n",
    "frecuencia_estrellas = estrellas.stack().value_counts().sort_index()\n",
    "\n",
    "print(frecuencia_estrellas)\n"
   ]
  },
  {
   "cell_type": "code",
   "execution_count": 12,
   "metadata": {},
   "outputs": [
    {
     "name": "stdout",
     "output_type": "stream",
     "text": [
      "Las combinaciones más comunes son:\n",
      "(1, 48)     26\n",
      "(15, 28)    26\n",
      "(24, 26)    25\n",
      "(4, 23)     25\n",
      "(3, 50)     25\n",
      "(39, 44)    24\n",
      "(26, 49)    24\n",
      "(12, 19)    24\n",
      "(23, 32)    24\n",
      "(5, 25)     24\n",
      "Name: count, dtype: int64\n"
     ]
    }
   ],
   "source": [
    "from itertools import combinations\n",
    "\n",
    "# Obtener todas las combinaciones únicas de números por sorteo\n",
    "all_combinations = []\n",
    "for idx, row in datos.iterrows():\n",
    "    numeros_sorteo = sorted(row[['Numero1', 'Numero2', 'Numero3', 'Numero4', 'Numero5']])\n",
    "    unique_combinations = list(combinations(numeros_sorteo, 2))  # Cambia el número aquí para ajustar la longitud de la combinación\n",
    "    all_combinations.extend(unique_combinations)\n",
    "\n",
    "# Contar la frecuencia de cada combinación\n",
    "frecuencia_combinaciones = pd.Series(all_combinations).value_counts()\n",
    "\n",
    "# Obtener las combinaciones más comunes y sus frecuencias\n",
    "combinaciones_mas_comunes = frecuencia_combinaciones.head(10)  # Puedes ajustar el número de combinaciones más comunes aquí\n",
    "\n",
    "print(\"Las combinaciones más comunes son:\")\n",
    "print(combinaciones_mas_comunes)\n"
   ]
  },
  {
   "cell_type": "code",
   "execution_count": 13,
   "metadata": {},
   "outputs": [
    {
     "name": "stdout",
     "output_type": "stream",
     "text": [
      "Los tríos más comunes son:\n",
      "(10, 19, 23)    6\n",
      "(23, 24, 26)    6\n",
      "(13, 17, 21)    6\n",
      "(3, 13, 42)     6\n",
      "(19, 25, 44)    6\n",
      "(25, 39, 44)    5\n",
      "(6, 48, 50)     5\n",
      "(25, 38, 41)    5\n",
      "(2, 10, 22)     5\n",
      "(20, 30, 38)    5\n",
      "Name: count, dtype: int64\n"
     ]
    }
   ],
   "source": [
    "from itertools import combinations\n",
    "\n",
    "# Obtener todas las combinaciones únicas de números por sorteo\n",
    "all_combinations = []\n",
    "for idx, row in datos.iterrows():\n",
    "    numeros_sorteo = sorted(row[['Numero1', 'Numero2', 'Numero3', 'Numero4', 'Numero5']])\n",
    "    unique_combinations = list(combinations(numeros_sorteo, 3))  # Cambia el número aquí para ajustar la longitud de la combinación\n",
    "    all_combinations.extend(unique_combinations)\n",
    "\n",
    "# Contar la frecuencia de cada combinación\n",
    "frecuencia_combinaciones = pd.Series(all_combinations).value_counts()\n",
    "\n",
    "# Obtener los tríos más comunes y sus frecuencias\n",
    "trios_mas_comunes = frecuencia_combinaciones.head(10)  # Puedes ajustar el número de tríos más comunes aquí\n",
    "\n",
    "print(\"Los tríos más comunes son:\")\n",
    "print(trios_mas_comunes)\n"
   ]
  },
  {
   "cell_type": "code",
   "execution_count": 14,
   "metadata": {},
   "outputs": [
    {
     "name": "stdout",
     "output_type": "stream",
     "text": [
      "Los cuartetos más comunes son:\n",
      "(19, 25, 30, 44)    2\n",
      "(29, 32, 36, 41)    2\n",
      "(7, 11, 46, 50)     2\n",
      "(19, 31, 39, 48)    2\n",
      "(34, 38, 43, 45)    2\n",
      "(23, 42, 43, 49)    2\n",
      "(5, 9, 19, 21)      2\n",
      "(17, 28, 35, 47)    2\n",
      "(18, 39, 43, 47)    2\n",
      "(15, 25, 40, 41)    2\n",
      "Name: count, dtype: int64\n"
     ]
    }
   ],
   "source": [
    "from itertools import combinations\n",
    "\n",
    "# Obtener todas las combinaciones únicas de números por sorteo\n",
    "all_combinations = []\n",
    "for idx, row in datos.iterrows():\n",
    "    numeros_sorteo = sorted(row[['Numero1', 'Numero2', 'Numero3', 'Numero4', 'Numero5']])\n",
    "    unique_combinations = list(combinations(numeros_sorteo, 4))  # Cambia el número aquí para ajustar la longitud de la combinación\n",
    "    all_combinations.extend(unique_combinations)\n",
    "\n",
    "# Contar la frecuencia de cada combinación\n",
    "frecuencia_combinaciones = pd.Series(all_combinations).value_counts()\n",
    "\n",
    "# Obtener los cuartetos más comunes y sus frecuencias\n",
    "cuartetos_mas_comunes = frecuencia_combinaciones.head(10)  # Puedes ajustar el número de cuartetos más comunes aquí\n",
    "\n",
    "print(\"Los cuartetos más comunes son:\")\n",
    "print(cuartetos_mas_comunes)\n"
   ]
  },
  {
   "cell_type": "code",
   "execution_count": 15,
   "metadata": {},
   "outputs": [
    {
     "name": "stdout",
     "output_type": "stream",
     "text": [
      "Los tríos junto con estrellas más comunes son:\n",
      "(10, 31, 42, 2, 5)     3\n",
      "(1, 6, 12, 2, 7)       2\n",
      "(36, 42, 46, 2, 8)     2\n",
      "(3, 26, 45, 7, 10)     2\n",
      "(5, 27, 42, 1, 6)      2\n",
      "(17, 27, 49, 3, 5)     2\n",
      "(25, 26, 44, 3, 7)     2\n",
      "(25, 28, 40, 1, 6)     2\n",
      "(3, 6, 24, 5, 8)       2\n",
      "(15, 21, 23, 3, 12)    2\n",
      "Name: count, dtype: int64\n"
     ]
    }
   ],
   "source": [
    "from itertools import combinations\n",
    "\n",
    "# Obtener todas las combinaciones únicas de números y estrellas por sorteo\n",
    "all_combinations = []\n",
    "for idx, row in datos.iterrows():\n",
    "    numeros_sorteo = sorted(row[['Numero1', 'Numero2', 'Numero3', 'Numero4', 'Numero5']])\n",
    "    estrellas_sorteo = sorted(row[['Estrella1', 'Estrella2']])\n",
    "    \n",
    "    # Combinaciones de tríos de números junto con estrellas\n",
    "    unique_combinations = list(combinations(numeros_sorteo, 3))  # Cambia el número aquí para ajustar la longitud de la combinación\n",
    "    for comb in unique_combinations:\n",
    "        all_combinations.append(comb + tuple(estrellas_sorteo))\n",
    "\n",
    "# Contar la frecuencia de cada combinación\n",
    "frecuencia_combinaciones = pd.Series(all_combinations).value_counts()\n",
    "\n",
    "# Obtener los tríos junto con estrellas más comunes y sus frecuencias\n",
    "trios_estrellas_mas_comunes = frecuencia_combinaciones.head(10)  # Puedes ajustar el número de tríos más comunes aquí\n",
    "\n",
    "print(\"Los tríos junto con estrellas más comunes son:\")\n",
    "print(trios_estrellas_mas_comunes)\n"
   ]
  },
  {
   "cell_type": "code",
   "execution_count": 16,
   "metadata": {},
   "outputs": [
    {
     "name": "stdout",
     "output_type": "stream",
     "text": [
      "Los cuartetos junto con estrellas más comunes son:\n",
      "(30, 42, 45, 49, 5, 10)    2\n",
      "(12, 37, 40, 50, 1, 2)     2\n",
      "(17, 35, 41, 45, 1, 5)     2\n",
      "(3, 34, 38, 48, 5, 8)      2\n",
      "(7, 15, 18, 46, 10, 12)    1\n",
      "(3, 12, 17, 30, 2, 6)      1\n",
      "(1, 29, 36, 42, 4, 5)      1\n",
      "(11, 29, 36, 42, 4, 5)     1\n",
      "(3, 12, 13, 17, 2, 6)      1\n",
      "(3, 12, 13, 30, 2, 6)      1\n",
      "Name: count, dtype: int64\n"
     ]
    }
   ],
   "source": [
    "from itertools import combinations\n",
    "\n",
    "# Obtener todas las combinaciones únicas de números y estrellas por sorteo\n",
    "all_combinations = []\n",
    "for idx, row in datos.iterrows():\n",
    "    numeros_sorteo = sorted(row[['Numero1', 'Numero2', 'Numero3', 'Numero4', 'Numero5']])\n",
    "    estrellas_sorteo = sorted(row[['Estrella1', 'Estrella2']])\n",
    "    \n",
    "    # Combinaciones de cuartetos de números junto con estrellas\n",
    "    unique_combinations = list(combinations(numeros_sorteo, 4))  # Cambia el número aquí para ajustar la longitud de la combinación\n",
    "    for comb in unique_combinations:\n",
    "        all_combinations.append(comb + tuple(estrellas_sorteo))\n",
    "\n",
    "# Contar la frecuencia de cada combinación\n",
    "frecuencia_combinaciones = pd.Series(all_combinations).value_counts()\n",
    "\n",
    "# Obtener los cuartetos junto con estrellas más comunes y sus frecuencias\n",
    "cuartetos_estrellas_mas_comunes = frecuencia_combinaciones.head(10)  # Puedes ajustar el número de cuartetos más comunes aquí\n",
    "\n",
    "print(\"Los cuartetos junto con estrellas más comunes son:\")\n",
    "print(cuartetos_estrellas_mas_comunes)\n"
   ]
  },
  {
   "cell_type": "code",
   "execution_count": null,
   "metadata": {},
   "outputs": [],
   "source": []
  },
  {
   "cell_type": "code",
   "execution_count": 18,
   "metadata": {},
   "outputs": [
    {
     "data": {
      "text/html": [
       "<div>\n",
       "<style scoped>\n",
       "    .dataframe tbody tr th:only-of-type {\n",
       "        vertical-align: middle;\n",
       "    }\n",
       "\n",
       "    .dataframe tbody tr th {\n",
       "        vertical-align: top;\n",
       "    }\n",
       "\n",
       "    .dataframe thead th {\n",
       "        text-align: right;\n",
       "    }\n",
       "</style>\n",
       "<table border=\"1\" class=\"dataframe\">\n",
       "  <thead>\n",
       "    <tr style=\"text-align: right;\">\n",
       "      <th></th>\n",
       "      <th>Numero1</th>\n",
       "      <th>Numero2</th>\n",
       "      <th>Numero3</th>\n",
       "      <th>Numero4</th>\n",
       "      <th>Numero5</th>\n",
       "      <th>Estrella1</th>\n",
       "      <th>Estrella2</th>\n",
       "    </tr>\n",
       "  </thead>\n",
       "  <tbody>\n",
       "    <tr>\n",
       "      <th>0</th>\n",
       "      <td>7</td>\n",
       "      <td>15</td>\n",
       "      <td>18</td>\n",
       "      <td>46</td>\n",
       "      <td>49</td>\n",
       "      <td>10</td>\n",
       "      <td>12</td>\n",
       "    </tr>\n",
       "  </tbody>\n",
       "</table>\n",
       "</div>"
      ],
      "text/plain": [
       "   Numero1  Numero2  Numero3  Numero4  Numero5  Estrella1  Estrella2\n",
       "0        7       15       18       46       49         10         12"
      ]
     },
     "execution_count": 18,
     "metadata": {},
     "output_type": "execute_result"
    }
   ],
   "source": [
    "datos.head(1)"
   ]
  },
  {
   "cell_type": "code",
   "execution_count": 19,
   "metadata": {},
   "outputs": [
    {
     "name": "stdout",
     "output_type": "stream",
     "text": [
      "Precisión del modelo: 0.1\n"
     ]
    }
   ],
   "source": [
    "from sklearn.model_selection import train_test_split\n",
    "from sklearn.ensemble import RandomForestClassifier\n",
    "from sklearn.metrics import accuracy_score\n",
    "import pandas as pd\n",
    "\n",
    "# Cargar los datos\n",
    "#datos = pd.read_csv('Lotoideas.com - Histórico de Resultados - Euromillones - 2004 a 2024.csv', skiprows=1, names=['FECHA', 'Numero1', 'Numero2', 'Numero3', 'Numero4', 'Numero5', 'Estrella1', 'Estrella2'])\n",
    "\n",
    "# Eliminar la columna de fecha que no es necesaria para el modelo\n",
    "# datos = datos.drop(columns=['FECHA']) # Esta línea no es necesaria si 'FECHA' no existe en tu DataFrame\n",
    "\n",
    "# Separar las características (X) y la variable objetivo (y)\n",
    "# Necesitas decidir cuál de tus columnas será tu variable objetivo (y)\n",
    "# Por ejemplo, si 'Numero1' es tu variable objetivo, puedes hacer lo siguiente:\n",
    "X = datos.drop(columns=['Numero1'])\n",
    "y = datos['Numero1']\n",
    "\n",
    "# Dividir los datos en entrenamiento y prueba\n",
    "X_train, X_test, y_train, y_test = train_test_split(X, y, test_size=0.2, random_state=42)\n",
    "\n",
    "# Inicializar y entrenar el modelo\n",
    "modelo = RandomForestClassifier(n_estimators=100, random_state=42)\n",
    "modelo.fit(X_train, y_train)\n",
    "\n",
    "# Hacer predicciones\n",
    "predicciones = modelo.predict(X_test)\n",
    "\n",
    "# Calcular la precisión del modelo\n",
    "precision = accuracy_score(y_test, predicciones)\n",
    "print(f\"Precisión del modelo: {precision}\")\n"
   ]
  },
  {
   "cell_type": "code",
   "execution_count": 20,
   "metadata": {},
   "outputs": [
    {
     "name": "stderr",
     "output_type": "stream",
     "text": [
      "c:\\Users\\Ariel\\AppData\\Local\\Programs\\Python\\Python311\\Lib\\site-packages\\sklearn\\model_selection\\_split.py:737: UserWarning: The least populated class in y has only 1 members, which is less than n_splits=5.\n",
      "  warnings.warn(\n"
     ]
    },
    {
     "name": "stdout",
     "output_type": "stream",
     "text": [
      "Precisión del modelo con 300 árboles: 0.09705882352941177\n"
     ]
    }
   ],
   "source": [
    "from sklearn.model_selection import GridSearchCV\n",
    "from sklearn.ensemble import RandomForestClassifier\n",
    "\n",
    "# Definir los valores que queremos probar para el número de árboles\n",
    "param_grid = {\n",
    "    'n_estimators': [50, 100, 200, 300]  # Puedes ajustar estos valores según lo desees\n",
    "}\n",
    "\n",
    "# Inicializar el modelo RandomForestClassifier\n",
    "model = RandomForestClassifier(random_state=42)\n",
    "\n",
    "# Inicializar GridSearchCV con el modelo y los parámetros\n",
    "grid_search = GridSearchCV(estimator=model, param_grid=param_grid, cv=5, scoring='accuracy')\n",
    "\n",
    "# Entrenar GridSearchCV para encontrar el mejor número de árboles\n",
    "grid_search.fit(X_train, y_train)\n",
    "\n",
    "# Obtener el mejor número de árboles\n",
    "best_n_estimators = grid_search.best_params_['n_estimators']\n",
    "\n",
    "# Crear un nuevo modelo con el número óptimo de árboles\n",
    "best_model = RandomForestClassifier(n_estimators=best_n_estimators, random_state=42)\n",
    "\n",
    "# Entrenar el mejor modelo\n",
    "best_model.fit(X_train, y_train)\n",
    "\n",
    "# Calcular la precisión del modelo\n",
    "accuracy = best_model.score(X_test, y_test)\n",
    "print(f\"Precisión del modelo con {best_n_estimators} árboles: {accuracy}\")\n"
   ]
  }
 ],
 "metadata": {
  "kernelspec": {
   "display_name": "Python 3",
   "language": "python",
   "name": "python3"
  },
  "language_info": {
   "codemirror_mode": {
    "name": "ipython",
    "version": 3
   },
   "file_extension": ".py",
   "mimetype": "text/x-python",
   "name": "python",
   "nbconvert_exporter": "python",
   "pygments_lexer": "ipython3",
   "version": "3.11.3"
  }
 },
 "nbformat": 4,
 "nbformat_minor": 2
}
